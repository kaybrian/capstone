{
 "cells": [
  {
   "cell_type": "code",
   "execution_count": 1,
   "metadata": {},
   "outputs": [
    {
     "name": "stderr",
     "output_type": "stream",
     "text": [
      "2025-02-23 11:56:07.289551: I tensorflow/core/platform/cpu_feature_guard.cc:182] This TensorFlow binary is optimized to use available CPU instructions in performance-critical operations.\n",
      "To enable the following instructions: AVX2 FMA, in other operations, rebuild TensorFlow with the appropriate compiler flags.\n"
     ]
    }
   ],
   "source": [
    "import tensorflow as tf\n",
    "import onnxruntime as ort\n",
    "import numpy as np\n",
    "import onnx\n"
   ]
  },
  {
   "cell_type": "code",
   "execution_count": 2,
   "metadata": {},
   "outputs": [
    {
     "name": "stdout",
     "output_type": "stream",
     "text": [
      "Input Name: float_input\n",
      "Input Shape: [None, 7]\n",
      "Sample Input Shape: (1, 7)\n",
      "ONNX Model Output: [array([1], dtype=int64), [{0: 0.3192141056060791, 1: 0.6807858943939209}]]\n"
     ]
    }
   ],
   "source": [
    "\n",
    "\n",
    "# Create an ONNX Runtime session\n",
    "session = ort.InferenceSession(\"../ML_Model/model/iot_heart_disease_model.onnx\")\n",
    "input_name = session.get_inputs()[0].name\n",
    "input_shape = session.get_inputs()[0].shape  # This is [None, 7]\n",
    "print(\"Input Name:\", input_name)\n",
    "print(\"Input Shape:\", input_shape)\n",
    "\n",
    "# Replace the 'None' in the shape with a concrete batch size, e.g., 1\n",
    "batch_size = 1\n",
    "num_features = 7\n",
    "\n",
    "# Example: Replace these values with actual sensor data in the correct order.\n",
    "# For instance, features might be: [age, sex, trestbps, thalach, restecg, exang, oldpeak] normalize the data before using it\n",
    "\n",
    "sample_input = np.array([[28, 1, 10, 34, 0, 1, 1]], dtype=np.float32)  # Shape: (1, 7)\n",
    "print(\"Sample Input Shape:\", sample_input.shape)\n",
    "\n",
    "# Run inference using the prepared input\n",
    "output = session.run(None, {input_name: sample_input})\n",
    "print(\"ONNX Model Output:\", output)\n"
   ]
  },
  {
   "cell_type": "code",
   "execution_count": null,
   "metadata": {},
   "outputs": [],
   "source": []
  }
 ],
 "metadata": {
  "kernelspec": {
   "display_name": "myIoTenv",
   "language": "python",
   "name": "python3"
  },
  "language_info": {
   "codemirror_mode": {
    "name": "ipython",
    "version": 3
   },
   "file_extension": ".py",
   "mimetype": "text/x-python",
   "name": "python",
   "nbconvert_exporter": "python",
   "pygments_lexer": "ipython3",
   "version": "3.11.11"
  }
 },
 "nbformat": 4,
 "nbformat_minor": 2
}
